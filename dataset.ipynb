{
 "cells": [
  {
   "cell_type": "code",
   "execution_count": 6,
   "metadata": {},
   "outputs": [
    {
     "name": "stdout",
     "output_type": "stream",
     "text": [
      "       pH  Temprature  Taste  Odor  Fat   Turbidity  Colour  Grade\n",
      "0     6.6          35      1     0     1          0     254      3\n",
      "1     6.6          36      0     1     0          1     253      3\n",
      "2     8.5          70      1     1     1          1     246      1\n",
      "3     9.5          34      1     1     0          1     255      1\n",
      "4     6.6          37      0     0     0          0     255      2\n",
      "...   ...         ...    ...   ...   ...        ...     ...    ...\n",
      "1054  6.7          45      1     1     0          0     247      2\n",
      "1055  6.7          38      1     0     1          0     255      3\n",
      "1056  3.0          40      1     1     1          1     255      1\n",
      "1057  6.8          43      1     0     1          0     250      3\n",
      "1058  8.6          55      0     1     1          1     255      1\n",
      "\n",
      "[1059 rows x 8 columns]\n"
     ]
    }
   ],
   "source": [
    "# menampilkan dataset menggunakan library pandas\n",
    "import pandas as pd\n",
    "dataset = pd.read_csv('D:\\MITA FILE\\Semester 4\\Kecerdasan Buatan\\Sample_data\\milknew.csv')\n",
    "print(dataset)"
   ]
  },
  {
   "cell_type": "code",
   "execution_count": 7,
   "metadata": {},
   "outputs": [
    {
     "data": {
      "text/plain": [
       "Index(['pH', 'Temprature', 'Taste', 'Odor', 'Fat ', 'Turbidity', 'Colour',\n",
       "       'Grade'],\n",
       "      dtype='object')"
      ]
     },
     "execution_count": 7,
     "metadata": {},
     "output_type": "execute_result"
    }
   ],
   "source": [
    "# menampilkan kolom-kolom pada dataset\n",
    "dataset.columns"
   ]
  },
  {
   "cell_type": "markdown",
   "metadata": {},
   "source": [
    "Membagi data (x) dan target (y)"
   ]
  },
  {
   "cell_type": "code",
   "execution_count": 8,
   "metadata": {},
   "outputs": [
    {
     "name": "stdout",
     "output_type": "stream",
     "text": [
      "       pH  Temprature  Taste  Odor  Fat   Turbidity  Colour\n",
      "0     6.6          35      1     0     1          0     254\n",
      "1     6.6          36      0     1     0          1     253\n",
      "2     8.5          70      1     1     1          1     246\n",
      "3     9.5          34      1     1     0          1     255\n",
      "4     6.6          37      0     0     0          0     255\n",
      "...   ...         ...    ...   ...   ...        ...     ...\n",
      "1054  6.7          45      1     1     0          0     247\n",
      "1055  6.7          38      1     0     1          0     255\n",
      "1056  3.0          40      1     1     1          1     255\n",
      "1057  6.8          43      1     0     1          0     250\n",
      "1058  8.6          55      0     1     1          1     255\n",
      "\n",
      "[1059 rows x 7 columns]\n"
     ]
    }
   ],
   "source": [
    "x = dataset[['pH', 'Temprature', 'Taste', 'Odor', 'Fat ', 'Turbidity', 'Colour']]\n",
    "print(x)"
   ]
  },
  {
   "cell_type": "markdown",
   "metadata": {},
   "source": [
    "x pada dataset tersebut yaitu kolom pH, Temprature, Taste, Odor, Fat, Turbidity dan Colour"
   ]
  },
  {
   "cell_type": "code",
   "execution_count": 9,
   "metadata": {},
   "outputs": [
    {
     "name": "stdout",
     "output_type": "stream",
     "text": [
      "0       3\n",
      "1       3\n",
      "2       1\n",
      "3       1\n",
      "4       2\n",
      "       ..\n",
      "1054    2\n",
      "1055    3\n",
      "1056    1\n",
      "1057    3\n",
      "1058    1\n",
      "Name: Grade, Length: 1059, dtype: int64\n"
     ]
    }
   ],
   "source": [
    "y = dataset['Grade']\n",
    "print(y)"
   ]
  },
  {
   "cell_type": "markdown",
   "metadata": {},
   "source": [
    "y pada dataset tersebut adalah kolom Grade"
   ]
  },
  {
   "cell_type": "markdown",
   "metadata": {},
   "source": [
    "Membagi data train dan data set."
   ]
  },
  {
   "cell_type": "markdown",
   "metadata": {},
   "source": [
    "Pembagian data yaitu 80/20. Jumlah sample : 1059\n",
    "Data train : 80%, data test : 20% \n",
    "Pembagian ini karena memberikan keseimbangan yang baik antara data train dan test"
   ]
  },
  {
   "cell_type": "code",
   "execution_count": 10,
   "metadata": {},
   "outputs": [],
   "source": [
    "import sklearn\n",
    "from sklearn.model_selection import train_test_split\n",
    "\n",
    "x_train, x_test, y_train, y_test = train_test_split(x, y, test_size=0.2, random_state=1)"
   ]
  },
  {
   "cell_type": "markdown",
   "metadata": {},
   "source": [
    "Dari syntax diatas, data test-nya yaitu 0.2 dari 1059 atau  20% dari 1059. Untuk melihat panjang dari x_test dan y_train yaitu sebagai berikut"
   ]
  },
  {
   "cell_type": "code",
   "execution_count": 11,
   "metadata": {},
   "outputs": [
    {
     "data": {
      "text/plain": [
       "212"
      ]
     },
     "execution_count": 11,
     "metadata": {},
     "output_type": "execute_result"
    }
   ],
   "source": [
    "len(x_test)"
   ]
  },
  {
   "cell_type": "code",
   "execution_count": 12,
   "metadata": {},
   "outputs": [
    {
     "data": {
      "text/plain": [
       "847"
      ]
     },
     "execution_count": 12,
     "metadata": {},
     "output_type": "execute_result"
    }
   ],
   "source": [
    "len(y_train)"
   ]
  },
  {
   "cell_type": "markdown",
   "metadata": {},
   "source": [
    "Setelah membagi data menjadi data train dan data test, tahap selanjutnya yaitu membuat pemodelan Desicion tree dengan menggunakan library Scikit learn sebagai berikut\n"
   ]
  },
  {
   "cell_type": "code",
   "execution_count": 13,
   "metadata": {},
   "outputs": [],
   "source": [
    "#Pemodelan \n",
    "from sklearn import tree\n",
    "\n",
    "clf = tree.DecisionTreeClassifier()"
   ]
  },
  {
   "cell_type": "markdown",
   "metadata": {},
   "source": [
    "Setelah membuat pemodelan, tahap selanjutnya yaitu Cross Validation untuk mengetahui performa dari model machine yang telah dibuat\n"
   ]
  },
  {
   "cell_type": "code",
   "execution_count": 17,
   "metadata": {},
   "outputs": [],
   "source": [
    "# Tahap Cross validation\n",
    "from sklearn.model_selection import cross_val_score\n",
    "\n",
    "scores = cross_val_score(clf, x, y, cv=5)"
   ]
  },
  {
   "cell_type": "markdown",
   "metadata": {},
   "source": [
    "Pada tahap ini, cross val score mengembalikan nilai berupa array yang terdiri dari tingkat akurasi pengujian \n",
    "setiap fold dataset.\n"
   ]
  },
  {
   "cell_type": "code",
   "execution_count": 18,
   "metadata": {},
   "outputs": [
    {
     "data": {
      "text/plain": [
       "array([0.98113208, 1.        , 0.99056604, 1.        , 0.98578199])"
      ]
     },
     "execution_count": 18,
     "metadata": {},
     "output_type": "execute_result"
    }
   ],
   "source": [
    "scores"
   ]
  },
  {
   "cell_type": "markdown",
   "metadata": {},
   "source": [
    "Secara umum, jika hasil dari cross validation  memiliki nilai yang bervariasi dari 0.85 sampai 0.99 maka model tersebut \n",
    "dapat dikatakan baik. \n",
    "Hasil dari cross val score diatas, menunjukkan nilai array pertama yaitu 0.96.. dan array terakhir adalah 1, sehingga dapat disimpulkan bahwa model dari dataset ini adalah baik.\n"
   ]
  },
  {
   "cell_type": "code",
   "execution_count": 19,
   "metadata": {},
   "outputs": [
    {
     "name": "stdout",
     "output_type": "stream",
     "text": [
      "0.9914960207457749\n"
     ]
    }
   ],
   "source": [
    "mean_score = scores.mean()\n",
    "print(mean_score)"
   ]
  },
  {
   "cell_type": "markdown",
   "metadata": {},
   "source": [
    "Mean scores untuk menampilkan rata-rata skor dari semua fold, yang memberikan gambaran keseluruhan tentang kinerja model "
   ]
  }
 ],
 "metadata": {
  "kernelspec": {
   "display_name": "Python 3",
   "language": "python",
   "name": "python3"
  },
  "language_info": {
   "codemirror_mode": {
    "name": "ipython",
    "version": 3
   },
   "file_extension": ".py",
   "mimetype": "text/x-python",
   "name": "python",
   "nbconvert_exporter": "python",
   "pygments_lexer": "ipython3",
   "version": "3.11.7"
  }
 },
 "nbformat": 4,
 "nbformat_minor": 2
}
